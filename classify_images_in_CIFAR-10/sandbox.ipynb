{
 "cells": [
  {
   "cell_type": "markdown",
   "metadata": {},
   "source": [
    "### Імпорт модулів"
   ]
  },
  {
   "cell_type": "code",
   "execution_count": 2,
   "metadata": {},
   "outputs": [],
   "source": [
    "from keras.datasets import cifar10\n",
    "from keras.models import Sequential\n",
    "from keras.layers import Dense, Dropout, Flatten\n",
    "from keras.layers import Conv2D, MaxPooling2D\n",
    "from keras.optimizers import SGD\n",
    "from keras.utils import np_utils\n",
    "from keras.callbacks import ModelCheckpoint\n",
    "from keras.utils.vis_utils import plot_model\n",
    "import matplotlib.pyplot as plt\n",
    "import time\n",
    "\n",
    "import os\n",
    "os.environ['TF_CPP_MIN_LOG_LEVEL'] = '2'"
   ]
  },
  {
   "cell_type": "markdown",
   "metadata": {},
   "source": [
    "### Параметри моделі"
   ]
  },
  {
   "cell_type": "code",
   "execution_count": 3,
   "metadata": {},
   "outputs": [],
   "source": [
    "batch_size = 128\n",
    "nb_classes = 10\n",
    "nb_epoch = 200\n",
    "\n",
    "img_rows, img_cols = 32, 32\n",
    "img_channels = 3"
   ]
  },
  {
   "cell_type": "markdown",
   "metadata": {},
   "source": [
    "### Створити модель\n",
    "\n",
    "Спочатку напишемо функцію, яку будемо перевикористовувати для створення моделі певної архітектури."
   ]
  },
  {
   "cell_type": "code",
   "execution_count": 4,
   "metadata": {},
   "outputs": [],
   "source": [
    "def build_model(nb_classes, img_channels, img_rows, img_cols):\n",
    "    model = Sequential()\n",
    "\n",
    "    # Note: it expects the data_format='channels_first'\n",
    "    model.add(Conv2D(filters=32, kernel_size=(3, 3), padding=\"same\", activation='relu', input_shape=(img_channels, img_rows, img_cols)))\n",
    "    model.add(Conv2D(filters=32, kernel_size=(3, 3), activation='relu'))\n",
    "    model.add(MaxPooling2D(pool_size=(2, 2)))\n",
    "    model.add(Dropout(0.25))\n",
    "\n",
    "    model.add(Conv2D(64, kernel_size=(3, 3), padding='same', activation='relu'))\n",
    "    model.add(Conv2D(64, kernel_size=(3, 3), activation='relu'))\n",
    "    model.add(MaxPooling2D(pool_size=(2, 2)))\n",
    "    model.add(Dropout(0.25))\n",
    "\n",
    "    model.add(Conv2D(128, kernel_size=(3, 3), padding='same', activation='relu'))\n",
    "    model.add(Conv2D(128, kernel_size=(3, 3), activation='relu'))\n",
    "    model.add(MaxPooling2D(pool_size=(2, 2)))\n",
    "    model.add(Dropout(0.25))\n",
    "\n",
    "    model.add(Flatten())\n",
    "    model.add(Dense(512, activation='relu'))\n",
    "    model.add(Dropout(0.5))\n",
    "    model.add(Dense(nb_classes, activation='softmax'))\n",
    "\n",
    "    sgd = SGD(lr=0.01, decay=1e-6, momentum=0.9, nesterov=True)\n",
    "    model.compile(loss='categorical_crossentropy',\n",
    "                  optimizer=sgd,\n",
    "                  metrics=['accuracy'])\n",
    "    \n",
    "    return model"
   ]
  },
  {
   "cell_type": "markdown",
   "metadata": {},
   "source": [
    "Тепер створимо модель."
   ]
  },
  {
   "cell_type": "code",
   "execution_count": 5,
   "metadata": {},
   "outputs": [
    {
     "name": "stdout",
     "output_type": "stream",
     "text": [
      "WARNING:tensorflow:From /home/eugene/.local/lib/python3.6/site-packages/tensorflow/python/framework/op_def_library.py:263: colocate_with (from tensorflow.python.framework.ops) is deprecated and will be removed in a future version.\n",
      "Instructions for updating:\n",
      "Colocations handled automatically by placer.\n",
      "WARNING:tensorflow:From /home/eugene/.local/lib/python3.6/site-packages/keras/backend/tensorflow_backend.py:3445: calling dropout (from tensorflow.python.ops.nn_ops) with keep_prob is deprecated and will be removed in a future version.\n",
      "Instructions for updating:\n",
      "Please use `rate` instead of `keep_prob`. Rate should be set to `rate = 1 - keep_prob`.\n"
     ]
    }
   ],
   "source": [
    "model = build_model(nb_classes, img_channels, img_rows, img_cols)"
   ]
  },
  {
   "cell_type": "markdown",
   "metadata": {},
   "source": [
    "Ми можемо зберегти схему моделі у `model.png` файл."
   ]
  },
  {
   "cell_type": "code",
   "execution_count": null,
   "metadata": {},
   "outputs": [],
   "source": [
    "plot_model(model, to_file='model.png')"
   ]
  },
  {
   "cell_type": "markdown",
   "metadata": {},
   "source": [
    "Маємо наступну схему моделі\n",
    "\n",
    "<img src=\"https://github.com/egoliuk/classification_with_CNN/blob/master/classify_images_in_CIFAR-10/model.png?raw=true\">"
   ]
  },
  {
   "cell_type": "markdown",
   "metadata": {},
   "source": [
    "### Завантажити набір даних CIFAR-10 та підготувати його до тренування"
   ]
  },
  {
   "cell_type": "code",
   "execution_count": 15,
   "metadata": {},
   "outputs": [
    {
     "name": "stdout",
     "output_type": "stream",
     "text": [
      "Loading data...\n",
      "X_train shape: (50000, 3, 32, 32)\n",
      "X_test shape: (10000, 3, 32, 32)\n",
      "50000 train samples\n",
      "10000 test samples\n",
      "Y_train shape: (50000, 10)\n",
      "Y_test shape: (10000, 10)\n"
     ]
    }
   ],
   "source": [
    "print('Loading data...')\n",
    "(X_train, y_train), (X_test, y_test) = cifar10.load_data()\n",
    "print('X_train shape:', X_train.shape)\n",
    "print('X_test shape:', X_test.shape)\n",
    "print(X_train.shape[0], 'train samples')\n",
    "print(X_test.shape[0], 'test samples')\n",
    "\n",
    "Y_train = np_utils.to_categorical(y_train, nb_classes)\n",
    "Y_test = np_utils.to_categorical(y_test, nb_classes)\n",
    "print('Y_train shape:', Y_train.shape)\n",
    "print('Y_test shape:', Y_test.shape)"
   ]
  },
  {
   "cell_type": "markdown",
   "metadata": {},
   "source": [
    "Нормалізуємо набір"
   ]
  },
  {
   "cell_type": "code",
   "execution_count": 17,
   "metadata": {},
   "outputs": [],
   "source": [
    "X_train = X_train.astype('float32') - 128\n",
    "X_test = X_test.astype('float32') - 128\n",
    "X_train /= 128\n",
    "X_test /= 128"
   ]
  },
  {
   "cell_type": "markdown",
   "metadata": {},
   "source": [
    "### Тренувати модель"
   ]
  },
  {
   "cell_type": "code",
   "execution_count": 7,
   "metadata": {},
   "outputs": [
    {
     "name": "stdout",
     "output_type": "stream",
     "text": [
      "WARNING:tensorflow:From /home/eugene/.local/lib/python3.6/site-packages/tensorflow/python/ops/math_ops.py:3066: to_int32 (from tensorflow.python.ops.math_ops) is deprecated and will be removed in a future version.\n",
      "Instructions for updating:\n",
      "Use tf.cast instead.\n",
      "Train on 50000 samples, validate on 10000 samples\n",
      "Epoch 1/200\n",
      "50000/50000 [==============================] - 168s 3ms/step - loss: 1.9897 - acc: 0.2395 - val_loss: 1.6870 - val_acc: 0.3830\n",
      "Epoch 2/200\n",
      "50000/50000 [==============================] - 166s 3ms/step - loss: 1.5261 - acc: 0.4370 - val_loss: 1.4188 - val_acc: 0.4885\n",
      "Epoch 3/200\n",
      "50000/50000 [==============================] - 166s 3ms/step - loss: 1.3082 - acc: 0.5278 - val_loss: 1.1439 - val_acc: 0.5906\n",
      "Epoch 4/200\n",
      "50000/50000 [==============================] - 168s 3ms/step - loss: 1.1586 - acc: 0.5849 - val_loss: 1.0166 - val_acc: 0.6386\n",
      "Epoch 5/200\n",
      "50000/50000 [==============================] - 167s 3ms/step - loss: 1.0437 - acc: 0.6290 - val_loss: 0.9425 - val_acc: 0.6681\n",
      "Epoch 6/200\n",
      "50000/50000 [==============================] - 165s 3ms/step - loss: 0.9648 - acc: 0.6570 - val_loss: 0.8522 - val_acc: 0.7011\n",
      "Epoch 7/200\n",
      "50000/50000 [==============================] - 177s 4ms/step - loss: 0.8879 - acc: 0.6886 - val_loss: 0.8220 - val_acc: 0.7117\n",
      "Epoch 8/200\n",
      "50000/50000 [==============================] - 159s 3ms/step - loss: 0.8261 - acc: 0.7108 - val_loss: 0.7856 - val_acc: 0.7273\n",
      "Epoch 9/200\n",
      "50000/50000 [==============================] - 152s 3ms/step - loss: 0.7727 - acc: 0.7317 - val_loss: 0.6906 - val_acc: 0.7586\n",
      "Epoch 10/200\n",
      "50000/50000 [==============================] - 152s 3ms/step - loss: 0.7399 - acc: 0.7424 - val_loss: 0.7074 - val_acc: 0.7571\n",
      "Epoch 11/200\n",
      "50000/50000 [==============================] - 151s 3ms/step - loss: 0.7003 - acc: 0.7575 - val_loss: 0.6464 - val_acc: 0.7778\n",
      "Epoch 12/200\n",
      "50000/50000 [==============================] - 153s 3ms/step - loss: 0.6743 - acc: 0.7672 - val_loss: 0.6363 - val_acc: 0.7820\n",
      "Epoch 13/200\n",
      "50000/50000 [==============================] - 152s 3ms/step - loss: 0.6392 - acc: 0.7772 - val_loss: 0.6331 - val_acc: 0.7888\n",
      "Epoch 14/200\n",
      "50000/50000 [==============================] - 152s 3ms/step - loss: 0.6167 - acc: 0.7855 - val_loss: 0.6288 - val_acc: 0.7842\n",
      "Epoch 15/200\n",
      "50000/50000 [==============================] - 126s 3ms/step - loss: 0.5927 - acc: 0.7922 - val_loss: 0.5901 - val_acc: 0.7983\n",
      "Epoch 16/200\n",
      "50000/50000 [==============================] - 116s 2ms/step - loss: 0.5759 - acc: 0.7984 - val_loss: 0.5871 - val_acc: 0.8020\n",
      "Epoch 17/200\n",
      "50000/50000 [==============================] - 117s 2ms/step - loss: 0.5547 - acc: 0.8062 - val_loss: 0.5633 - val_acc: 0.8078\n",
      "Epoch 18/200\n",
      "50000/50000 [==============================] - 116s 2ms/step - loss: 0.5422 - acc: 0.8121 - val_loss: 0.5568 - val_acc: 0.8091\n",
      "Epoch 19/200\n",
      "50000/50000 [==============================] - 117s 2ms/step - loss: 0.5228 - acc: 0.8185 - val_loss: 0.5651 - val_acc: 0.8074\n",
      "Epoch 20/200\n",
      "50000/50000 [==============================] - 116s 2ms/step - loss: 0.5073 - acc: 0.8235 - val_loss: 0.5370 - val_acc: 0.8163\n",
      "Epoch 21/200\n",
      "50000/50000 [==============================] - 117s 2ms/step - loss: 0.4950 - acc: 0.8282 - val_loss: 0.5579 - val_acc: 0.8158\n",
      "Epoch 22/200\n",
      "50000/50000 [==============================] - 116s 2ms/step - loss: 0.4819 - acc: 0.8336 - val_loss: 0.5498 - val_acc: 0.8164\n",
      "Epoch 23/200\n",
      "50000/50000 [==============================] - 128s 3ms/step - loss: 0.4689 - acc: 0.8363 - val_loss: 0.5424 - val_acc: 0.8181\n",
      "Epoch 24/200\n",
      "50000/50000 [==============================] - 117s 2ms/step - loss: 0.4543 - acc: 0.8406 - val_loss: 0.5131 - val_acc: 0.8316\n",
      "Epoch 25/200\n",
      "50000/50000 [==============================] - 117s 2ms/step - loss: 0.4466 - acc: 0.8446 - val_loss: 0.5340 - val_acc: 0.8240\n",
      "Epoch 26/200\n",
      "50000/50000 [==============================] - 116s 2ms/step - loss: 0.4317 - acc: 0.8483 - val_loss: 0.5020 - val_acc: 0.8339\n",
      "Epoch 27/200\n",
      "50000/50000 [==============================] - 117s 2ms/step - loss: 0.4264 - acc: 0.8517 - val_loss: 0.5145 - val_acc: 0.8310\n",
      "Epoch 28/200\n",
      "50000/50000 [==============================] - 117s 2ms/step - loss: 0.4159 - acc: 0.8558 - val_loss: 0.5120 - val_acc: 0.8302\n",
      "Epoch 29/200\n",
      "50000/50000 [==============================] - 116s 2ms/step - loss: 0.4013 - acc: 0.8586 - val_loss: 0.5184 - val_acc: 0.8302\n",
      "Epoch 30/200\n",
      "50000/50000 [==============================] - 117s 2ms/step - loss: 0.4033 - acc: 0.8590 - val_loss: 0.5239 - val_acc: 0.8284\n",
      "Epoch 31/200\n",
      "50000/50000 [==============================] - 117s 2ms/step - loss: 0.3952 - acc: 0.8615 - val_loss: 0.5051 - val_acc: 0.8372\n",
      "Epoch 32/200\n",
      "50000/50000 [==============================] - 116s 2ms/step - loss: 0.3836 - acc: 0.8645 - val_loss: 0.4989 - val_acc: 0.8349\n",
      "Epoch 33/200\n",
      "50000/50000 [==============================] - 118s 2ms/step - loss: 0.3767 - acc: 0.8667 - val_loss: 0.5392 - val_acc: 0.8261\n",
      "Epoch 34/200\n",
      "50000/50000 [==============================] - 116s 2ms/step - loss: 0.3692 - acc: 0.8697 - val_loss: 0.5113 - val_acc: 0.8351\n",
      "Epoch 35/200\n",
      "50000/50000 [==============================] - 117s 2ms/step - loss: 0.3617 - acc: 0.8716 - val_loss: 0.5414 - val_acc: 0.8272\n",
      "Epoch 36/200\n",
      "50000/50000 [==============================] - 116s 2ms/step - loss: 0.3553 - acc: 0.8751 - val_loss: 0.5320 - val_acc: 0.8326\n",
      "Epoch 37/200\n",
      "50000/50000 [==============================] - 117s 2ms/step - loss: 0.3504 - acc: 0.8775 - val_loss: 0.5157 - val_acc: 0.8344\n",
      "Epoch 38/200\n",
      "50000/50000 [==============================] - 116s 2ms/step - loss: 0.3459 - acc: 0.8769 - val_loss: 0.5252 - val_acc: 0.8339\n",
      "Epoch 39/200\n",
      "50000/50000 [==============================] - 116s 2ms/step - loss: 0.3428 - acc: 0.8792 - val_loss: 0.5240 - val_acc: 0.8375\n",
      "Epoch 40/200\n",
      "50000/50000 [==============================] - 116s 2ms/step - loss: 0.3332 - acc: 0.8837 - val_loss: 0.5076 - val_acc: 0.8378\n",
      "Epoch 41/200\n",
      "50000/50000 [==============================] - 117s 2ms/step - loss: 0.3317 - acc: 0.8833 - val_loss: 0.5008 - val_acc: 0.8409\n",
      "Epoch 42/200\n",
      "50000/50000 [==============================] - 117s 2ms/step - loss: 0.3222 - acc: 0.8863 - val_loss: 0.5042 - val_acc: 0.8433\n",
      "Epoch 43/200\n",
      "50000/50000 [==============================] - 117s 2ms/step - loss: 0.3191 - acc: 0.8879 - val_loss: 0.5103 - val_acc: 0.8393\n",
      "Epoch 44/200\n",
      "50000/50000 [==============================] - 117s 2ms/step - loss: 0.3151 - acc: 0.8885 - val_loss: 0.5109 - val_acc: 0.8410\n",
      "Epoch 45/200\n",
      "50000/50000 [==============================] - 117s 2ms/step - loss: 0.3085 - acc: 0.8907 - val_loss: 0.5009 - val_acc: 0.8462\n",
      "Epoch 46/200\n",
      "50000/50000 [==============================] - 115s 2ms/step - loss: 0.3033 - acc: 0.8921 - val_loss: 0.5223 - val_acc: 0.8377\n",
      "Epoch 47/200\n",
      "50000/50000 [==============================] - 114s 2ms/step - loss: 0.3008 - acc: 0.8933 - val_loss: 0.5048 - val_acc: 0.8426\n",
      "Epoch 48/200\n",
      "50000/50000 [==============================] - 115s 2ms/step - loss: 0.2977 - acc: 0.8953 - val_loss: 0.5187 - val_acc: 0.8428\n",
      "Epoch 49/200\n",
      "50000/50000 [==============================] - 114s 2ms/step - loss: 0.2923 - acc: 0.8975 - val_loss: 0.5054 - val_acc: 0.8403\n",
      "Epoch 50/200\n",
      "50000/50000 [==============================] - 115s 2ms/step - loss: 0.2904 - acc: 0.8967 - val_loss: 0.5175 - val_acc: 0.8411\n",
      "Epoch 51/200\n",
      "50000/50000 [==============================] - 114s 2ms/step - loss: 0.2820 - acc: 0.8980 - val_loss: 0.5082 - val_acc: 0.8421\n",
      "Epoch 52/200\n",
      "50000/50000 [==============================] - 114s 2ms/step - loss: 0.2819 - acc: 0.9011 - val_loss: 0.5087 - val_acc: 0.8482\n",
      "Epoch 53/200\n",
      "50000/50000 [==============================] - 115s 2ms/step - loss: 0.2771 - acc: 0.9017 - val_loss: 0.5259 - val_acc: 0.8440\n",
      "Epoch 54/200\n",
      "50000/50000 [==============================] - 114s 2ms/step - loss: 0.2801 - acc: 0.9005 - val_loss: 0.5027 - val_acc: 0.8472\n",
      "Epoch 55/200\n",
      "50000/50000 [==============================] - 114s 2ms/step - loss: 0.2702 - acc: 0.9035 - val_loss: 0.5156 - val_acc: 0.8454\n",
      "Epoch 56/200\n",
      "50000/50000 [==============================] - 115s 2ms/step - loss: 0.2680 - acc: 0.9052 - val_loss: 0.5104 - val_acc: 0.8466\n",
      "Epoch 57/200\n"
     ]
    },
    {
     "name": "stdout",
     "output_type": "stream",
     "text": [
      "50000/50000 [==============================] - 114s 2ms/step - loss: 0.2710 - acc: 0.9048 - val_loss: 0.5078 - val_acc: 0.8492\n",
      "Epoch 58/200\n",
      "50000/50000 [==============================] - 114s 2ms/step - loss: 0.2612 - acc: 0.9076 - val_loss: 0.5232 - val_acc: 0.8449\n",
      "Epoch 59/200\n",
      "50000/50000 [==============================] - 115s 2ms/step - loss: 0.2604 - acc: 0.9077 - val_loss: 0.5024 - val_acc: 0.8435\n",
      "Epoch 60/200\n",
      "50000/50000 [==============================] - 114s 2ms/step - loss: 0.2585 - acc: 0.9082 - val_loss: 0.5251 - val_acc: 0.8443\n",
      "Epoch 61/200\n",
      "50000/50000 [==============================] - 115s 2ms/step - loss: 0.2562 - acc: 0.9094 - val_loss: 0.5197 - val_acc: 0.8447\n",
      "Epoch 62/200\n",
      "50000/50000 [==============================] - 114s 2ms/step - loss: 0.2520 - acc: 0.9101 - val_loss: 0.5201 - val_acc: 0.8457\n",
      "Epoch 63/200\n",
      "50000/50000 [==============================] - 114s 2ms/step - loss: 0.2492 - acc: 0.9118 - val_loss: 0.5427 - val_acc: 0.8430\n",
      "Epoch 64/200\n",
      "50000/50000 [==============================] - 114s 2ms/step - loss: 0.2529 - acc: 0.9111 - val_loss: 0.5160 - val_acc: 0.8446\n",
      "Epoch 65/200\n",
      "50000/50000 [==============================] - 115s 2ms/step - loss: 0.2443 - acc: 0.9129 - val_loss: 0.5199 - val_acc: 0.8473\n",
      "Epoch 66/200\n",
      "50000/50000 [==============================] - 114s 2ms/step - loss: 0.2449 - acc: 0.9127 - val_loss: 0.5115 - val_acc: 0.8464\n",
      "Epoch 67/200\n",
      "50000/50000 [==============================] - 115s 2ms/step - loss: 0.2448 - acc: 0.9129 - val_loss: 0.5237 - val_acc: 0.8464\n",
      "Epoch 68/200\n",
      "50000/50000 [==============================] - 115s 2ms/step - loss: 0.2467 - acc: 0.9129 - val_loss: 0.5169 - val_acc: 0.8447\n",
      "Epoch 69/200\n",
      "50000/50000 [==============================] - 115s 2ms/step - loss: 0.2377 - acc: 0.9157 - val_loss: 0.5316 - val_acc: 0.8454\n",
      "Epoch 70/200\n",
      "50000/50000 [==============================] - 115s 2ms/step - loss: 0.2381 - acc: 0.9153 - val_loss: 0.5331 - val_acc: 0.8461\n",
      "Epoch 71/200\n",
      "50000/50000 [==============================] - 115s 2ms/step - loss: 0.2347 - acc: 0.9170 - val_loss: 0.5230 - val_acc: 0.8452\n",
      "Epoch 72/200\n",
      "50000/50000 [==============================] - 115s 2ms/step - loss: 0.2340 - acc: 0.9173 - val_loss: 0.5381 - val_acc: 0.8453\n",
      "Epoch 73/200\n",
      "50000/50000 [==============================] - 114s 2ms/step - loss: 0.2271 - acc: 0.9195 - val_loss: 0.5256 - val_acc: 0.8490\n",
      "Epoch 74/200\n",
      "50000/50000 [==============================] - 114s 2ms/step - loss: 0.2271 - acc: 0.9198 - val_loss: 0.5258 - val_acc: 0.8517\n",
      "Epoch 75/200\n",
      "50000/50000 [==============================] - 114s 2ms/step - loss: 0.2253 - acc: 0.9206 - val_loss: 0.5441 - val_acc: 0.8474\n",
      "Epoch 76/200\n",
      "50000/50000 [==============================] - 114s 2ms/step - loss: 0.2260 - acc: 0.9203 - val_loss: 0.5279 - val_acc: 0.8463\n",
      "Epoch 77/200\n",
      "50000/50000 [==============================] - 114s 2ms/step - loss: 0.2191 - acc: 0.9215 - val_loss: 0.5264 - val_acc: 0.8501\n",
      "Epoch 78/200\n",
      "50000/50000 [==============================] - 115s 2ms/step - loss: 0.2209 - acc: 0.9223 - val_loss: 0.5261 - val_acc: 0.8505\n",
      "Epoch 79/200\n",
      "50000/50000 [==============================] - 115s 2ms/step - loss: 0.2176 - acc: 0.9240 - val_loss: 0.5334 - val_acc: 0.8474\n",
      "Epoch 80/200\n",
      "50000/50000 [==============================] - 115s 2ms/step - loss: 0.2183 - acc: 0.9228 - val_loss: 0.5301 - val_acc: 0.8475\n",
      "Epoch 81/200\n",
      "50000/50000 [==============================] - 114s 2ms/step - loss: 0.2169 - acc: 0.9235 - val_loss: 0.5299 - val_acc: 0.8491\n",
      "Epoch 82/200\n",
      "50000/50000 [==============================] - 114s 2ms/step - loss: 0.2127 - acc: 0.9240 - val_loss: 0.5572 - val_acc: 0.8463\n",
      "Epoch 83/200\n",
      "50000/50000 [==============================] - 114s 2ms/step - loss: 0.2114 - acc: 0.9261 - val_loss: 0.5458 - val_acc: 0.8471\n",
      "Epoch 84/200\n",
      "50000/50000 [==============================] - 115s 2ms/step - loss: 0.2164 - acc: 0.9241 - val_loss: 0.5370 - val_acc: 0.8485\n",
      "Epoch 85/200\n",
      "50000/50000 [==============================] - 115s 2ms/step - loss: 0.2143 - acc: 0.9240 - val_loss: 0.5308 - val_acc: 0.8452\n",
      "Epoch 86/200\n",
      "50000/50000 [==============================] - 115s 2ms/step - loss: 0.2125 - acc: 0.9250 - val_loss: 0.5332 - val_acc: 0.8503\n",
      "Epoch 87/200\n",
      "50000/50000 [==============================] - 114s 2ms/step - loss: 0.2091 - acc: 0.9275 - val_loss: 0.5497 - val_acc: 0.8481\n",
      "Epoch 88/200\n",
      "50000/50000 [==============================] - 114s 2ms/step - loss: 0.2084 - acc: 0.9266 - val_loss: 0.5553 - val_acc: 0.8483\n",
      "Epoch 89/200\n",
      "50000/50000 [==============================] - 114s 2ms/step - loss: 0.2085 - acc: 0.9265 - val_loss: 0.5584 - val_acc: 0.8440\n",
      "Epoch 90/200\n",
      "50000/50000 [==============================] - 114s 2ms/step - loss: 0.2028 - acc: 0.9291 - val_loss: 0.5611 - val_acc: 0.8488\n",
      "Epoch 91/200\n",
      "50000/50000 [==============================] - 114s 2ms/step - loss: 0.2013 - acc: 0.9287 - val_loss: 0.5338 - val_acc: 0.8483\n",
      "Epoch 92/200\n",
      "50000/50000 [==============================] - 114s 2ms/step - loss: 0.2038 - acc: 0.9275 - val_loss: 0.5426 - val_acc: 0.8509\n",
      "Epoch 93/200\n",
      "50000/50000 [==============================] - 114s 2ms/step - loss: 0.2037 - acc: 0.9283 - val_loss: 0.5359 - val_acc: 0.8484\n",
      "Epoch 94/200\n",
      "50000/50000 [==============================] - 114s 2ms/step - loss: 0.1958 - acc: 0.9311 - val_loss: 0.5491 - val_acc: 0.8520\n",
      "Epoch 95/200\n",
      "50000/50000 [==============================] - 114s 2ms/step - loss: 0.1945 - acc: 0.9312 - val_loss: 0.5325 - val_acc: 0.8496\n",
      "Epoch 96/200\n",
      "50000/50000 [==============================] - 114s 2ms/step - loss: 0.1969 - acc: 0.9312 - val_loss: 0.5425 - val_acc: 0.8504\n",
      "Epoch 97/200\n",
      "50000/50000 [==============================] - 114s 2ms/step - loss: 0.2001 - acc: 0.9298 - val_loss: 0.5345 - val_acc: 0.8521\n",
      "Epoch 98/200\n",
      "50000/50000 [==============================] - 114s 2ms/step - loss: 0.1915 - acc: 0.9318 - val_loss: 0.5531 - val_acc: 0.8464\n",
      "Epoch 99/200\n",
      "50000/50000 [==============================] - 114s 2ms/step - loss: 0.1970 - acc: 0.9309 - val_loss: 0.5351 - val_acc: 0.8520\n",
      "Epoch 100/200\n",
      "50000/50000 [==============================] - 115s 2ms/step - loss: 0.1916 - acc: 0.9328 - val_loss: 0.5504 - val_acc: 0.8517\n",
      "Epoch 101/200\n",
      "50000/50000 [==============================] - 114s 2ms/step - loss: 0.1944 - acc: 0.9319 - val_loss: 0.5519 - val_acc: 0.8485\n",
      "Epoch 102/200\n",
      "50000/50000 [==============================] - 114s 2ms/step - loss: 0.1954 - acc: 0.9325 - val_loss: 0.5395 - val_acc: 0.8472\n",
      "Epoch 103/200\n",
      "50000/50000 [==============================] - 115s 2ms/step - loss: 0.1929 - acc: 0.9315 - val_loss: 0.5408 - val_acc: 0.8509\n",
      "Epoch 104/200\n",
      "50000/50000 [==============================] - 117s 2ms/step - loss: 0.1890 - acc: 0.9337 - val_loss: 0.5516 - val_acc: 0.8485\n",
      "Epoch 105/200\n",
      "50000/50000 [==============================] - 114s 2ms/step - loss: 0.1943 - acc: 0.9314 - val_loss: 0.5440 - val_acc: 0.8479\n",
      "Epoch 106/200\n",
      "50000/50000 [==============================] - 114s 2ms/step - loss: 0.1875 - acc: 0.9334 - val_loss: 0.5331 - val_acc: 0.8518\n",
      "Epoch 107/200\n",
      "50000/50000 [==============================] - 114s 2ms/step - loss: 0.1864 - acc: 0.9348 - val_loss: 0.5494 - val_acc: 0.8494\n",
      "Epoch 108/200\n",
      "50000/50000 [==============================] - 114s 2ms/step - loss: 0.1888 - acc: 0.9337 - val_loss: 0.5360 - val_acc: 0.8482\n",
      "Epoch 109/200\n",
      "50000/50000 [==============================] - 114s 2ms/step - loss: 0.1836 - acc: 0.9364 - val_loss: 0.5601 - val_acc: 0.8459\n",
      "Epoch 110/200\n",
      "50000/50000 [==============================] - 114s 2ms/step - loss: 0.1853 - acc: 0.9362 - val_loss: 0.5258 - val_acc: 0.8517\n",
      "Epoch 111/200\n",
      "50000/50000 [==============================] - 115s 2ms/step - loss: 0.1845 - acc: 0.9350 - val_loss: 0.5540 - val_acc: 0.8488\n",
      "Epoch 112/200\n",
      "50000/50000 [==============================] - 114s 2ms/step - loss: 0.1798 - acc: 0.9372 - val_loss: 0.5582 - val_acc: 0.8507\n",
      "Epoch 113/200\n",
      "50000/50000 [==============================] - 114s 2ms/step - loss: 0.1784 - acc: 0.9376 - val_loss: 0.5545 - val_acc: 0.8530\n",
      "Epoch 114/200\n",
      "50000/50000 [==============================] - 114s 2ms/step - loss: 0.1744 - acc: 0.9401 - val_loss: 0.5702 - val_acc: 0.8528\n",
      "Epoch 115/200\n"
     ]
    },
    {
     "name": "stdout",
     "output_type": "stream",
     "text": [
      "50000/50000 [==============================] - 114s 2ms/step - loss: 0.1769 - acc: 0.9374 - val_loss: 0.5929 - val_acc: 0.8461\n",
      "Epoch 116/200\n",
      "50000/50000 [==============================] - 114s 2ms/step - loss: 0.1774 - acc: 0.9390 - val_loss: 0.5747 - val_acc: 0.8478\n",
      "Epoch 117/200\n",
      "50000/50000 [==============================] - 114s 2ms/step - loss: 0.1812 - acc: 0.9365 - val_loss: 0.5370 - val_acc: 0.8529\n",
      "Epoch 118/200\n",
      "50000/50000 [==============================] - 114s 2ms/step - loss: 0.1796 - acc: 0.9370 - val_loss: 0.5471 - val_acc: 0.8525\n",
      "Epoch 119/200\n",
      "50000/50000 [==============================] - 114s 2ms/step - loss: 0.1770 - acc: 0.9379 - val_loss: 0.5702 - val_acc: 0.8490\n",
      "Epoch 120/200\n",
      "50000/50000 [==============================] - 114s 2ms/step - loss: 0.1802 - acc: 0.9369 - val_loss: 0.5493 - val_acc: 0.8522\n",
      "Epoch 121/200\n",
      "50000/50000 [==============================] - 115s 2ms/step - loss: 0.1788 - acc: 0.9385 - val_loss: 0.5541 - val_acc: 0.8529\n",
      "Epoch 122/200\n",
      "50000/50000 [==============================] - 115s 2ms/step - loss: 0.1773 - acc: 0.9381 - val_loss: 0.5463 - val_acc: 0.8508\n",
      "Epoch 123/200\n",
      "50000/50000 [==============================] - 116s 2ms/step - loss: 0.1743 - acc: 0.9408 - val_loss: 0.5678 - val_acc: 0.8457\n",
      "Epoch 124/200\n",
      "50000/50000 [==============================] - 115s 2ms/step - loss: 0.1736 - acc: 0.9398 - val_loss: 0.5838 - val_acc: 0.8494\n",
      "Epoch 125/200\n",
      "50000/50000 [==============================] - 114s 2ms/step - loss: 0.1740 - acc: 0.9395 - val_loss: 0.5691 - val_acc: 0.8492\n",
      "Epoch 126/200\n",
      "50000/50000 [==============================] - 114s 2ms/step - loss: 0.1771 - acc: 0.9388 - val_loss: 0.5655 - val_acc: 0.8490\n",
      "Epoch 127/200\n",
      "50000/50000 [==============================] - 114s 2ms/step - loss: 0.1704 - acc: 0.9411 - val_loss: 0.5409 - val_acc: 0.8488\n",
      "Epoch 128/200\n",
      "50000/50000 [==============================] - 114s 2ms/step - loss: 0.1727 - acc: 0.9401 - val_loss: 0.5460 - val_acc: 0.8521\n",
      "Epoch 129/200\n",
      "50000/50000 [==============================] - 114s 2ms/step - loss: 0.1756 - acc: 0.9389 - val_loss: 0.5516 - val_acc: 0.8526\n",
      "Epoch 130/200\n",
      "50000/50000 [==============================] - 114s 2ms/step - loss: 0.1695 - acc: 0.9408 - val_loss: 0.5500 - val_acc: 0.8551\n",
      "Epoch 131/200\n",
      "50000/50000 [==============================] - 114s 2ms/step - loss: 0.1710 - acc: 0.9405 - val_loss: 0.5545 - val_acc: 0.8515\n",
      "Epoch 132/200\n",
      "50000/50000 [==============================] - 115s 2ms/step - loss: 0.1740 - acc: 0.9406 - val_loss: 0.5310 - val_acc: 0.8521\n",
      "Epoch 133/200\n",
      "50000/50000 [==============================] - 115s 2ms/step - loss: 0.1642 - acc: 0.9442 - val_loss: 0.5614 - val_acc: 0.8503\n",
      "Epoch 134/200\n",
      "50000/50000 [==============================] - 114s 2ms/step - loss: 0.1646 - acc: 0.9426 - val_loss: 0.5594 - val_acc: 0.8514\n",
      "Epoch 135/200\n",
      "50000/50000 [==============================] - 114s 2ms/step - loss: 0.1711 - acc: 0.9416 - val_loss: 0.5565 - val_acc: 0.8496\n",
      "Epoch 136/200\n",
      "50000/50000 [==============================] - 114s 2ms/step - loss: 0.1659 - acc: 0.9424 - val_loss: 0.5604 - val_acc: 0.8521\n",
      "Epoch 137/200\n",
      "50000/50000 [==============================] - 114s 2ms/step - loss: 0.1613 - acc: 0.9444 - val_loss: 0.5982 - val_acc: 0.8482\n",
      "Epoch 138/200\n",
      "50000/50000 [==============================] - 114s 2ms/step - loss: 0.1686 - acc: 0.9418 - val_loss: 0.6029 - val_acc: 0.8472\n",
      "Epoch 139/200\n",
      "50000/50000 [==============================] - 114s 2ms/step - loss: 0.1684 - acc: 0.9426 - val_loss: 0.5699 - val_acc: 0.8518\n",
      "Epoch 140/200\n",
      "50000/50000 [==============================] - 114s 2ms/step - loss: 0.1659 - acc: 0.9410 - val_loss: 0.5583 - val_acc: 0.8524\n",
      "Epoch 141/200\n",
      "50000/50000 [==============================] - 114s 2ms/step - loss: 0.1628 - acc: 0.9442 - val_loss: 0.5657 - val_acc: 0.8501\n",
      "Epoch 142/200\n",
      "50000/50000 [==============================] - 114s 2ms/step - loss: 0.1658 - acc: 0.9429 - val_loss: 0.5453 - val_acc: 0.8558\n",
      "Epoch 143/200\n",
      "50000/50000 [==============================] - 114s 2ms/step - loss: 0.1672 - acc: 0.9421 - val_loss: 0.5640 - val_acc: 0.8517\n",
      "Epoch 144/200\n",
      "50000/50000 [==============================] - 114s 2ms/step - loss: 0.1641 - acc: 0.9429 - val_loss: 0.5839 - val_acc: 0.8522\n",
      "Epoch 145/200\n",
      "50000/50000 [==============================] - 114s 2ms/step - loss: 0.1658 - acc: 0.9422 - val_loss: 0.5591 - val_acc: 0.8496\n",
      "Epoch 146/200\n",
      "50000/50000 [==============================] - 114s 2ms/step - loss: 0.1618 - acc: 0.9439 - val_loss: 0.5650 - val_acc: 0.8548\n",
      "Epoch 147/200\n",
      "50000/50000 [==============================] - 114s 2ms/step - loss: 0.1565 - acc: 0.9451 - val_loss: 0.5851 - val_acc: 0.8541\n",
      "Epoch 148/200\n",
      "50000/50000 [==============================] - 117s 2ms/step - loss: 0.1563 - acc: 0.9457 - val_loss: 0.5767 - val_acc: 0.8521\n",
      "Epoch 149/200\n",
      "50000/50000 [==============================] - 118s 2ms/step - loss: 0.1592 - acc: 0.9444 - val_loss: 0.5568 - val_acc: 0.8541\n",
      "Epoch 150/200\n",
      "50000/50000 [==============================] - 115s 2ms/step - loss: 0.1592 - acc: 0.9451 - val_loss: 0.5746 - val_acc: 0.8570\n",
      "Epoch 151/200\n",
      "50000/50000 [==============================] - 114s 2ms/step - loss: 0.1614 - acc: 0.9443 - val_loss: 0.5690 - val_acc: 0.8508\n",
      "Epoch 152/200\n",
      "50000/50000 [==============================] - 114s 2ms/step - loss: 0.1638 - acc: 0.9427 - val_loss: 0.5718 - val_acc: 0.8510\n",
      "Epoch 153/200\n",
      "50000/50000 [==============================] - 114s 2ms/step - loss: 0.1620 - acc: 0.9442 - val_loss: 0.5740 - val_acc: 0.8548\n",
      "Epoch 154/200\n",
      "50000/50000 [==============================] - 114s 2ms/step - loss: 0.1628 - acc: 0.9433 - val_loss: 0.5605 - val_acc: 0.8502\n",
      "Epoch 155/200\n",
      "50000/50000 [==============================] - 115s 2ms/step - loss: 0.1565 - acc: 0.9466 - val_loss: 0.5834 - val_acc: 0.8550\n",
      "Epoch 156/200\n",
      "50000/50000 [==============================] - 115s 2ms/step - loss: 0.1580 - acc: 0.9451 - val_loss: 0.5909 - val_acc: 0.8495\n",
      "Epoch 157/200\n",
      "50000/50000 [==============================] - 114s 2ms/step - loss: 0.1587 - acc: 0.9456 - val_loss: 0.5585 - val_acc: 0.8512\n",
      "Epoch 158/200\n",
      "50000/50000 [==============================] - 115s 2ms/step - loss: 0.1530 - acc: 0.9469 - val_loss: 0.5882 - val_acc: 0.8537\n",
      "Epoch 159/200\n",
      "50000/50000 [==============================] - 114s 2ms/step - loss: 0.1614 - acc: 0.9446 - val_loss: 0.5770 - val_acc: 0.8497\n",
      "Epoch 160/200\n",
      "50000/50000 [==============================] - 115s 2ms/step - loss: 0.1577 - acc: 0.9479 - val_loss: 0.5669 - val_acc: 0.8518\n",
      "Epoch 161/200\n",
      "50000/50000 [==============================] - 115s 2ms/step - loss: 0.1577 - acc: 0.9448 - val_loss: 0.5865 - val_acc: 0.8456\n",
      "Epoch 162/200\n",
      "50000/50000 [==============================] - 115s 2ms/step - loss: 0.1554 - acc: 0.9459 - val_loss: 0.5744 - val_acc: 0.8552\n",
      "Epoch 163/200\n",
      "50000/50000 [==============================] - 114s 2ms/step - loss: 0.1535 - acc: 0.9464 - val_loss: 0.5821 - val_acc: 0.8490\n",
      "Epoch 164/200\n",
      "50000/50000 [==============================] - 114s 2ms/step - loss: 0.1524 - acc: 0.9480 - val_loss: 0.5777 - val_acc: 0.8510\n",
      "Epoch 165/200\n",
      "50000/50000 [==============================] - 115s 2ms/step - loss: 0.1523 - acc: 0.9484 - val_loss: 0.5846 - val_acc: 0.8517\n",
      "Epoch 166/200\n",
      "50000/50000 [==============================] - 114s 2ms/step - loss: 0.1509 - acc: 0.9487 - val_loss: 0.6025 - val_acc: 0.8518\n",
      "Epoch 167/200\n",
      "50000/50000 [==============================] - 114s 2ms/step - loss: 0.1534 - acc: 0.9465 - val_loss: 0.5752 - val_acc: 0.8514\n",
      "Epoch 168/200\n",
      "50000/50000 [==============================] - 115s 2ms/step - loss: 0.1506 - acc: 0.9475 - val_loss: 0.5747 - val_acc: 0.8539\n",
      "Epoch 169/200\n",
      "50000/50000 [==============================] - 114s 2ms/step - loss: 0.1548 - acc: 0.9464 - val_loss: 0.5708 - val_acc: 0.8500\n",
      "Epoch 170/200\n",
      "50000/50000 [==============================] - 114s 2ms/step - loss: 0.1491 - acc: 0.9479 - val_loss: 0.5941 - val_acc: 0.8540\n",
      "Epoch 171/200\n",
      "50000/50000 [==============================] - 114s 2ms/step - loss: 0.1516 - acc: 0.9481 - val_loss: 0.5855 - val_acc: 0.8506\n",
      "Epoch 172/200\n",
      "50000/50000 [==============================] - 114s 2ms/step - loss: 0.1587 - acc: 0.9452 - val_loss: 0.5678 - val_acc: 0.8509\n",
      "Epoch 173/200\n"
     ]
    },
    {
     "name": "stdout",
     "output_type": "stream",
     "text": [
      "50000/50000 [==============================] - 114s 2ms/step - loss: 0.1538 - acc: 0.9464 - val_loss: 0.5819 - val_acc: 0.8518\n",
      "Epoch 174/200\n",
      "50000/50000 [==============================] - 114s 2ms/step - loss: 0.1506 - acc: 0.9491 - val_loss: 0.5773 - val_acc: 0.8562\n",
      "Epoch 175/200\n",
      "50000/50000 [==============================] - 114s 2ms/step - loss: 0.1551 - acc: 0.9468 - val_loss: 0.5961 - val_acc: 0.8470\n",
      "Epoch 176/200\n",
      "50000/50000 [==============================] - 115s 2ms/step - loss: 0.1478 - acc: 0.9478 - val_loss: 0.5740 - val_acc: 0.8526\n",
      "Epoch 177/200\n",
      "50000/50000 [==============================] - 114s 2ms/step - loss: 0.1526 - acc: 0.9471 - val_loss: 0.5540 - val_acc: 0.8547\n",
      "Epoch 178/200\n",
      "50000/50000 [==============================] - 114s 2ms/step - loss: 0.1467 - acc: 0.9494 - val_loss: 0.5785 - val_acc: 0.8514\n",
      "Epoch 179/200\n",
      "50000/50000 [==============================] - 114s 2ms/step - loss: 0.1502 - acc: 0.9495 - val_loss: 0.5486 - val_acc: 0.8542\n",
      "Epoch 180/200\n",
      "50000/50000 [==============================] - 114s 2ms/step - loss: 0.1473 - acc: 0.9487 - val_loss: 0.5655 - val_acc: 0.8555\n",
      "Epoch 181/200\n",
      "50000/50000 [==============================] - 116s 2ms/step - loss: 0.1443 - acc: 0.9510 - val_loss: 0.5886 - val_acc: 0.8552\n",
      "Epoch 182/200\n",
      "50000/50000 [==============================] - 138s 3ms/step - loss: 0.1446 - acc: 0.9497 - val_loss: 0.5869 - val_acc: 0.8517\n",
      "Epoch 183/200\n",
      "50000/50000 [==============================] - 119s 2ms/step - loss: 0.1506 - acc: 0.9481 - val_loss: 0.5891 - val_acc: 0.8533\n",
      "Epoch 184/200\n",
      "50000/50000 [==============================] - 118s 2ms/step - loss: 0.1461 - acc: 0.9504 - val_loss: 0.5907 - val_acc: 0.8515\n",
      "Epoch 185/200\n",
      "50000/50000 [==============================] - 119s 2ms/step - loss: 0.1487 - acc: 0.9490 - val_loss: 0.5698 - val_acc: 0.8551\n",
      "Epoch 186/200\n",
      "50000/50000 [==============================] - 146s 3ms/step - loss: 0.1405 - acc: 0.9513 - val_loss: 0.5992 - val_acc: 0.8555\n",
      "Epoch 187/200\n",
      "50000/50000 [==============================] - 151s 3ms/step - loss: 0.1547 - acc: 0.9478 - val_loss: 0.5776 - val_acc: 0.8530\n",
      "Epoch 188/200\n",
      "50000/50000 [==============================] - 152s 3ms/step - loss: 0.1498 - acc: 0.9487 - val_loss: 0.5799 - val_acc: 0.8565\n",
      "Epoch 189/200\n",
      "50000/50000 [==============================] - 151s 3ms/step - loss: 0.1463 - acc: 0.9508 - val_loss: 0.5785 - val_acc: 0.8501\n",
      "Epoch 190/200\n",
      "50000/50000 [==============================] - 152s 3ms/step - loss: 0.1468 - acc: 0.9507 - val_loss: 0.5710 - val_acc: 0.8527\n",
      "Epoch 191/200\n",
      "50000/50000 [==============================] - 151s 3ms/step - loss: 0.1480 - acc: 0.9495 - val_loss: 0.5995 - val_acc: 0.8504\n",
      "Epoch 192/200\n",
      "50000/50000 [==============================] - 143s 3ms/step - loss: 0.1459 - acc: 0.9499 - val_loss: 0.5767 - val_acc: 0.8525\n",
      "Epoch 193/200\n",
      "50000/50000 [==============================] - 121s 2ms/step - loss: 0.1468 - acc: 0.9502 - val_loss: 0.5634 - val_acc: 0.8539\n",
      "Epoch 194/200\n",
      "50000/50000 [==============================] - 139s 3ms/step - loss: 0.1430 - acc: 0.9510 - val_loss: 0.6147 - val_acc: 0.8470\n",
      "Epoch 195/200\n",
      "50000/50000 [==============================] - 118s 2ms/step - loss: 0.1465 - acc: 0.9507 - val_loss: 0.5942 - val_acc: 0.8519\n",
      "Epoch 196/200\n",
      "50000/50000 [==============================] - 120s 2ms/step - loss: 0.1437 - acc: 0.9500 - val_loss: 0.5702 - val_acc: 0.8537\n",
      "Epoch 197/200\n",
      "50000/50000 [==============================] - 126s 3ms/step - loss: 0.1432 - acc: 0.9516 - val_loss: 0.5732 - val_acc: 0.8538\n",
      "Epoch 198/200\n",
      "50000/50000 [==============================] - 152s 3ms/step - loss: 0.1403 - acc: 0.9522 - val_loss: 0.6054 - val_acc: 0.8533\n",
      "Epoch 199/200\n",
      "50000/50000 [==============================] - 150s 3ms/step - loss: 0.1444 - acc: 0.9505 - val_loss: 0.5818 - val_acc: 0.8547\n",
      "Epoch 200/200\n",
      "50000/50000 [==============================] - 141s 3ms/step - loss: 0.1406 - acc: 0.9528 - val_loss: 0.5815 - val_acc: 0.8513\n"
     ]
    }
   ],
   "source": [
    "tic = time.perf_counter()\n",
    "\n",
    "history = model.fit(X_train, Y_train,\n",
    "          batch_size=batch_size,\n",
    "          epochs=nb_epoch,\n",
    "          validation_data=(X_test, Y_test),\n",
    "          shuffle=True,\n",
    "          callbacks=[ModelCheckpoint('weights/cifar.h5', save_best_only=False)])\n",
    "\n",
    "toc = time.perf_counter()"
   ]
  },
  {
   "cell_type": "code",
   "execution_count": 20,
   "metadata": {},
   "outputs": [
    {
     "name": "stdout",
     "output_type": "stream",
     "text": [
      "Час тренування: 24070.018134781007 сек.\n"
     ]
    }
   ],
   "source": [
    "print(\"Час тренування: \" + str(toc - tic) + \" сек.\")"
   ]
  },
  {
   "cell_type": "markdown",
   "metadata": {},
   "source": [
    "### Точність моделі\n",
    "\n",
    "Переглянемо криві зміни значення точності моделі та функції втрат під час тренування та валідації моделі."
   ]
  },
  {
   "cell_type": "code",
   "execution_count": 21,
   "metadata": {},
   "outputs": [],
   "source": [
    "# Plot training & validation accuracy values\n",
    "def plot_accuracy(history):\n",
    "    plt.plot(history.history['acc'])\n",
    "    plt.plot(history.history['val_acc'])\n",
    "    plt.title('Model accuracy')\n",
    "    plt.ylabel('Accuracy')\n",
    "    plt.xlabel('Epoch')\n",
    "    plt.legend(['Train', 'Test'], loc='upper left')\n",
    "    plt.show()\n",
    "    \n",
    "    # Plot training & validation loss values\n",
    "def plot_loss(history):\n",
    "    plt.plot(history.history['loss'])\n",
    "    plt.plot(history.history['val_loss'])\n",
    "    plt.title('Model loss')\n",
    "    plt.ylabel('Loss')\n",
    "    plt.xlabel('Epoch')\n",
    "    plt.legend(['Train', 'Test'], loc='upper left')\n",
    "    plt.show()"
   ]
  },
  {
   "cell_type": "code",
   "execution_count": 22,
   "metadata": {},
   "outputs": [
    {
     "data": {
      "image/png": "[encoded data removed]",
      "text/plain": [
       "<matplotlib.figure.Figure at 0x7fc5c82a8908>"
      ]
     },
     "metadata": {},
     "output_type": "display_data"
    },
    {
     "data": {
      "image/png": "[encoded data removed]",
      "text/plain": [
       "<matplotlib.figure.Figure at 0x7fc5c8224e80>"
      ]
     },
     "metadata": {},
     "output_type": "display_data"
    }
   ],
   "source": [
    "plot_accuracy(history)\n",
    "plot_loss(history)"
   ]
  },
  {
   "cell_type": "markdown",
   "metadata": {},
   "source": [
    "Тепер перевіримо точність моделі на тестовій виборці."
   ]
  },
  {
   "cell_type": "code",
   "execution_count": 23,
   "metadata": {},
   "outputs": [
    {
     "name": "stdout",
     "output_type": "stream",
     "text": [
      "10000/10000 [==============================] - 7s 737us/step\n",
      "Test score: 0.5814649774551391\n",
      "Test accuracy: 0.8513\n"
     ]
    }
   ],
   "source": [
    "score, acc = model.evaluate(X_test, Y_test, batch_size=batch_size)\n",
    "print('Test score:', score)\n",
    "print('Test accuracy:', acc)"
   ]
  },
  {
   "cell_type": "markdown",
   "metadata": {},
   "source": [
    "### Висновок\n",
    "\n",
    "Ми бачимо, що точність моделі під час тренування рівномірно зростає на даних для тренування та валідації до 26 епохи (приблизно), потім модель продовжує повільно збільшувати точність на тренувальній вибірці і з часом останні 100 епох (приблизно) зростання майже не відбувається. При цьому на даних для валідації точність моделі майже припиняє зростати вже після 26 епохи. Зрештою, ми бачимо, що тренування протягом 200 епох призводит до перенавчання і майже не покращує класифікаціїні здібності моделі у порівнянні з 26 епохою. Перевірка на тестових даних підтверджує це.\n",
    "\n",
    "При цьому загальний час тренування моделі 24070 секунд, тобто майже 7 годин. Отже ми можемо навчиту нову модель, скоротивши кікість епох з 200 до 27. Модель має бути не така перенавчена і час тренування суттєво скоротиться. "
   ]
  },
  {
   "cell_type": "markdown",
   "metadata": {},
   "source": [
    "### Зменшимо кількість епох тренування"
   ]
  },
  {
   "cell_type": "code",
   "execution_count": 25,
   "metadata": {},
   "outputs": [],
   "source": [
    "model2 = build_model(nb_classes, img_channels, img_rows, img_cols)"
   ]
  },
  {
   "cell_type": "code",
   "execution_count": 26,
   "metadata": {},
   "outputs": [
    {
     "name": "stdout",
     "output_type": "stream",
     "text": [
      "Train on 50000 samples, validate on 10000 samples\n",
      "Epoch 1/26\n",
      "50000/50000 [==============================] - 124s 2ms/step - loss: 1.9831 - acc: 0.2515 - val_loss: 1.5933 - val_acc: 0.4144\n",
      "Epoch 2/26\n",
      "50000/50000 [==============================] - 125s 2ms/step - loss: 1.5187 - acc: 0.4378 - val_loss: 1.3451 - val_acc: 0.5143\n",
      "Epoch 3/26\n",
      "50000/50000 [==============================] - 132s 3ms/step - loss: 1.3017 - acc: 0.5264 - val_loss: 1.1270 - val_acc: 0.6033\n",
      "Epoch 4/26\n",
      "50000/50000 [==============================] - 132s 3ms/step - loss: 1.1621 - acc: 0.5809 - val_loss: 1.0107 - val_acc: 0.6394\n",
      "Epoch 5/26\n",
      "50000/50000 [==============================] - 128s 3ms/step - loss: 1.0587 - acc: 0.6248 - val_loss: 0.9331 - val_acc: 0.6690\n",
      "Epoch 6/26\n",
      "50000/50000 [==============================] - 128s 3ms/step - loss: 0.9707 - acc: 0.6576 - val_loss: 0.8612 - val_acc: 0.6987\n",
      "Epoch 7/26\n",
      "50000/50000 [==============================] - 124s 2ms/step - loss: 0.8970 - acc: 0.6840 - val_loss: 0.8574 - val_acc: 0.7045\n",
      "Epoch 8/26\n",
      "50000/50000 [==============================] - 125s 3ms/step - loss: 0.8419 - acc: 0.7037 - val_loss: 0.7419 - val_acc: 0.7378\n",
      "Epoch 9/26\n",
      "50000/50000 [==============================] - 128s 3ms/step - loss: 0.7864 - acc: 0.7254 - val_loss: 0.7124 - val_acc: 0.7506\n",
      "Epoch 10/26\n",
      "50000/50000 [==============================] - 121s 2ms/step - loss: 0.7398 - acc: 0.7405 - val_loss: 0.7084 - val_acc: 0.7557\n",
      "Epoch 11/26\n",
      "50000/50000 [==============================] - 122s 2ms/step - loss: 0.7077 - acc: 0.7509 - val_loss: 0.6828 - val_acc: 0.7592\n",
      "Epoch 12/26\n",
      "50000/50000 [==============================] - 147s 3ms/step - loss: 0.6783 - acc: 0.7627 - val_loss: 0.6266 - val_acc: 0.7831\n",
      "Epoch 13/26\n",
      "50000/50000 [==============================] - 151s 3ms/step - loss: 0.6442 - acc: 0.7763 - val_loss: 0.6238 - val_acc: 0.7834\n",
      "Epoch 14/26\n",
      "50000/50000 [==============================] - 132s 3ms/step - loss: 0.6218 - acc: 0.7822 - val_loss: 0.6275 - val_acc: 0.7863\n",
      "Epoch 15/26\n",
      "50000/50000 [==============================] - 123s 2ms/step - loss: 0.6054 - acc: 0.7889 - val_loss: 0.6026 - val_acc: 0.7957\n",
      "Epoch 16/26\n",
      "50000/50000 [==============================] - 122s 2ms/step - loss: 0.5825 - acc: 0.7980 - val_loss: 0.6203 - val_acc: 0.7904\n",
      "Epoch 17/26\n",
      "50000/50000 [==============================] - 116s 2ms/step - loss: 0.5587 - acc: 0.8060 - val_loss: 0.5944 - val_acc: 0.8037\n",
      "Epoch 18/26\n",
      "50000/50000 [==============================] - 119s 2ms/step - loss: 0.5469 - acc: 0.8075 - val_loss: 0.5621 - val_acc: 0.8107\n",
      "Epoch 19/26\n",
      "50000/50000 [==============================] - 115s 2ms/step - loss: 0.5241 - acc: 0.8156 - val_loss: 0.5620 - val_acc: 0.8090\n",
      "Epoch 20/26\n",
      "50000/50000 [==============================] - 120s 2ms/step - loss: 0.5116 - acc: 0.8218 - val_loss: 0.5366 - val_acc: 0.8185\n",
      "Epoch 21/26\n",
      "50000/50000 [==============================] - 112s 2ms/step - loss: 0.4935 - acc: 0.8290 - val_loss: 0.5457 - val_acc: 0.8155\n",
      "Epoch 22/26\n",
      "50000/50000 [==============================] - 113s 2ms/step - loss: 0.4815 - acc: 0.8303 - val_loss: 0.5371 - val_acc: 0.8165\n",
      "Epoch 23/26\n",
      "50000/50000 [==============================] - 114s 2ms/step - loss: 0.4714 - acc: 0.8353 - val_loss: 0.5560 - val_acc: 0.8190\n",
      "Epoch 24/26\n",
      "50000/50000 [==============================] - 124s 2ms/step - loss: 0.4597 - acc: 0.8386 - val_loss: 0.5388 - val_acc: 0.8208\n",
      "Epoch 25/26\n",
      "50000/50000 [==============================] - 126s 3ms/step - loss: 0.4468 - acc: 0.8450 - val_loss: 0.5357 - val_acc: 0.8231\n",
      "Epoch 26/26\n",
      "50000/50000 [==============================] - 123s 2ms/step - loss: 0.4405 - acc: 0.8446 - val_loss: 0.5431 - val_acc: 0.8251\n"
     ]
    }
   ],
   "source": [
    "tic2 = time.perf_counter()\n",
    "\n",
    "history2 = model2.fit(X_train, Y_train,\n",
    "                    batch_size=batch_size,\n",
    "                    epochs=26,\n",
    "                    validation_data=(X_test, Y_test),\n",
    "                    shuffle=True,\n",
    "                    callbacks=[ModelCheckpoint('weights/cifar2.h5', save_best_only=False)])\n",
    "\n",
    "toc2 = time.perf_counter()"
   ]
  },
  {
   "cell_type": "code",
   "execution_count": 28,
   "metadata": {},
   "outputs": [
    {
     "name": "stdout",
     "output_type": "stream",
     "text": [
      "Час тренування: 3246.5531997410144 сек.\n"
     ]
    }
   ],
   "source": [
    "print(\"Час тренування: \" + str(toc2 - tic2) + \" сек.\")"
   ]
  },
  {
   "cell_type": "code",
   "execution_count": 29,
   "metadata": {},
   "outputs": [
    {
     "data": {
      "image/png": "[encoded data removed]",
      "text/plain": [
       "<matplotlib.figure.Figure at 0x7fc5d040d0b8>"
      ]
     },
     "metadata": {},
     "output_type": "display_data"
    },
    {
     "data": {
      "image/png": "[encoded data removed]",
      "text/plain": [
       "<matplotlib.figure.Figure at 0x7fc5c02e7a20>"
      ]
     },
     "metadata": {},
     "output_type": "display_data"
    }
   ],
   "source": [
    "plot_accuracy(history2)\n",
    "plot_loss(history2)"
   ]
  },
  {
   "cell_type": "code",
   "execution_count": 30,
   "metadata": {},
   "outputs": [
    {
     "name": "stdout",
     "output_type": "stream",
     "text": [
      "10000/10000 [==============================] - 6s 626us/step\n",
      "Test score: 0.5431307132720947\n",
      "Test accuracy: 0.8251\n"
     ]
    }
   ],
   "source": [
    "score2, acc2 = model2.evaluate(X_test, Y_test, batch_size=batch_size)\n",
    "print('Test score:', score2)\n",
    "print('Test accuracy:', acc2)"
   ]
  },
  {
   "cell_type": "markdown",
   "metadata": {},
   "source": [
    "### Висновок\n",
    "\n",
    "Тепер на тренування моделі іде 3247 сек. тобто майже 1 година, що в 7 раз швидше. При цьому точність моделі перевірена на виборці для тренування, перевірки та тестування зростає рівномірно та не має значних розбіжностей, схоже, що ми уникнули перенавчання."
   ]
  },
  {
   "cell_type": "code",
   "execution_count": null,
   "metadata": {},
   "outputs": [],
   "source": []
  }
 ],
 "metadata": {
  "kernelspec": {
   "display_name": "Python 3",
   "language": "python",
   "name": "python3"
  },
  "language_info": {
   "codemirror_mode": {
    "name": "ipython",
    "version": 3
   },
   "file_extension": ".py",
   "mimetype": "text/x-python",
   "name": "python",
   "nbconvert_exporter": "python",
   "pygments_lexer": "ipython3",
   "version": "3.6.4"
  }
 },
 "nbformat": 4,
 "nbformat_minor": 2
}
